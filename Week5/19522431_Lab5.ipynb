{
  "nbformat": 4,
  "nbformat_minor": 0,
  "metadata": {
    "colab": {
      "provenance": []
    },
    "kernelspec": {
      "name": "python3",
      "display_name": "Python 3"
    },
    "language_info": {
      "name": "python"
    }
  },
  "cells": [
    {
      "cell_type": "code",
      "source": [
        "import pandas as pd\n",
        "\n",
        "questions_per_library = pd.read_csv(\n",
        "    'drive/MyDrive/data/stackoverflow.zip', parse_dates = True, index_col ='creation_date'\n",
        ").loc[:'pandas':'bokeh'].resample('1M').sum().cumsum().reindex(\n",
        "    pd.date_range('2008-08', '2021-10', freq ='M')\n",
        ").fillna(0)\n",
        "questions_per_library.tail()"
      ],
      "metadata": {
        "id": "BLB7y3iDxgiv"
      },
      "execution_count": null,
      "outputs": []
    },
    {
      "cell_type": "code",
      "source": [
        "from matplotlib.animation import FuncAnimation"
      ],
      "metadata": {
        "id": "7-0o2kJaquE-"
      },
      "execution_count": null,
      "outputs": []
    },
    {
      "cell_type": "code",
      "source": [
        "import matplotlib.pyplot as plt\n",
        "from matplotlib import ticker\n",
        "\n",
        "def bar_plot(data):\n",
        "  fig, ax = plt.subplots (figsize = (8, 6))\n",
        "  sort_order = data.last('1M').squeeze().sort_values().index\n",
        "  bars = [\n",
        "      bar.set_lable(label) for label, bar in\n",
        "      zip(sort_order, ax.barh(sort_order, [0] * data.shape[1]))\n",
        "  ]\n",
        "\n",
        "  ax.set_xlabel('total questions',  fontweight = 'bold')\n",
        "  ax.set_xlim(0, 250_000)\n",
        "  ax.xaxis.set_major_formatter(ticker.EngFormatter())\n",
        "  ax.xaxis.set_tick_params(labelsize = 12)\n",
        "  ax.yaxis.set_tick_params(labelsize = 12)\n",
        "\n",
        "  for spine in ['top', 'right']:\n",
        "    ax.spines[spine].set_visible(False)\n",
        "\n",
        "  fig.tight_layout()\n",
        "\n",
        "  return fig, ax"
      ],
      "metadata": {
        "id": "rtPPArL3ojXI"
      },
      "execution_count": null,
      "outputs": []
    },
    {
      "cell_type": "code",
      "source": [
        "def generate_plot_text(ax):\n",
        "  annotations = [\n",
        "      ax.annotate(\n",
        "          '', xy = (0, bar.get_y() + bar.get_height()/2),\n",
        "                    ha = 'left', va = 'center'\n",
        "      ) for bar in ax.patches\n",
        "  ]\n",
        "\n",
        "  time_text = ax.text(\n",
        "      0.9, 0.1, '', transform = ax.transAxes,\n",
        "      fontsize = 15, ha = 'center', va = 'center'\n",
        "  )\n",
        "  return annotations, time_text"
      ],
      "metadata": {
        "id": "D9NczkItp9iV"
      },
      "execution_count": null,
      "outputs": []
    },
    {
      "cell_type": "code",
      "source": [
        "def update (frame, *, ax, df, annotations, time_text):\n",
        "  data = df.loc[frame, :]\n",
        "\n",
        "  for rect, text in zip(ax.patches, annotations):\n",
        "    col = rect.get_label()\n",
        "    if data[col]:\n",
        "      rect.set_width(data[col])\n",
        "      text.set_x(data[col])\n",
        "      text.set_text(f' {data[col]:,.0f}')\n",
        "\n",
        "  time_text.set_text(frame.strftime('%b\\n%Y'))"
      ],
      "metadata": {
        "id": "DmvvgOY_vGUV"
      },
      "execution_count": null,
      "outputs": []
    },
    {
      "cell_type": "code",
      "source": [
        "from functools import partial\n",
        "\n",
        "def bar_plot_init(questions_per_library):\n",
        "  fig, ax = bar_plot(questions_per_library)\n",
        "  annotations, time_text = generate_plot_text(ax)\n",
        "\n",
        "  bar_plot_update = partial (\n",
        "      update, ax = ax, df = questions_per_library,\n",
        "      annotations = annotations, time_text = time_text\n",
        "  )\n",
        "\n",
        "  return fig, bar_plot_update"
      ],
      "metadata": {
        "id": "noFHSYTkwD74"
      },
      "execution_count": null,
      "outputs": []
    },
    {
      "cell_type": "code",
      "source": [
        "fig, update_func = bar_plot_init (questions_per_library)\n",
        "\n",
        "ani = FuncAnimation (\n",
        "    fig, update_func, frames = questions_per_library.index, repeat = False\n",
        ")\n",
        "ani.save (\n",
        "    '../media/stackoverflow_question.mp4',\n",
        "    writer = 'ffmpeg', fps = 10, bitrate = 100, dpi = 300\n",
        ")\n",
        "plt.close()"
      ],
      "metadata": {
        "id": "4LGy7oFOxBEx"
      },
      "execution_count": null,
      "outputs": []
    },
    {
      "cell_type": "code",
      "source": [
        "from IPython import display\n",
        "\n",
        "display.Video(\n",
        "    '../media/stackoverflow_question.mp4', width = 600, height = 400,\n",
        "    embed = True, html_attributes = 'controls muted autoplay'\n",
        ")"
      ],
      "metadata": {
        "colab": {
          "base_uri": "https://localhost:8080/",
          "height": 421
        },
        "id": "DZ83W6wRxjq3",
        "outputId": "75bdb9bf-c4d8-435f-a88a-5a5b1c870b8b"
      },
      "execution_count": null,
      "outputs": [
        {
          "output_type": "execute_result",
          "data": {
            "text/plain": [
              "<IPython.core.display.Video object>"
            ],
            "text/html": [
              "<video controls muted autoplay  width=\"600\"  height=\"400\">\n",
              " <source src=\"data:None;base64,../media/stackoverflow_question.mp4\" type=\"None\">\n",
              " Your browser does not support the video tag.\n",
              " </video>"
            ]
          },
          "metadata": {},
          "execution_count": 3
        }
      ]
    },
    {
      "cell_type": "code",
      "source": [
        "subway = pd.read_csv(\n",
        "    '../data/NYC_subway_daily.csv', parse_dates = ['Datetime'],\n",
        "    index_col = ['Borough', 'Datetime']\n",
        ")\n",
        "\n",
        "subway_daily = subway.unstack(0)\n",
        "subway_daily.head()"
      ],
      "metadata": {
        "id": "GuT9iN_3ynsk"
      },
      "execution_count": null,
      "outputs": []
    },
    {
      "cell_type": "code",
      "source": [
        "import numpy as np\n",
        "\n",
        "count_per_bin, bin_ranges np.histogram(manhattan_entries, bins= 30)"
      ],
      "metadata": {
        "id": "GAHMzOg-zMTk"
      },
      "execution_count": null,
      "outputs": []
    },
    {
      "cell_type": "code",
      "source": [
        "def subway_histogram(data, bins, date_range):\n",
        "  _, bin_ranges = np.histogram(data, bins = bins)\n",
        "\n",
        "  weekday_mask = data.index.weekday <5\n",
        "  configs = [\n",
        "      {'label': 'Weeken', 'mask': -weekday_mask, 'ymax': 60},\n",
        "      {'label': 'Weekday', 'mask': weekday_mask, 'ymax': 120}\n",
        "  ]\n",
        "\n",
        "  fig, axes = plt.subplots(1, 2, figsize =(8, 4), sharex = True)\n",
        "  for ax, config in zip(axes, configs):\n",
        "    _, _, config['hist'] = ax.hist(\n",
        "        data[config['mask']].loc[date_range], bin_ranges, ec = 'black'\n",
        "    )\n",
        "    ax.xaxis.set_major_formatter(ticker.EngFormatter())\n",
        "    ax.set(\n",
        "        xlim = (0, None), ylim = (0, config['ymax']),\n",
        "        xlabel = f'{config[\"label\"]} Entries'\n",
        "    )\n",
        "    for spine in ['top', 'right']:\n",
        "      ax.spine[spine].set_visible(False)\n",
        "\n",
        "axes[0].set_ylabel('Frequency')\n",
        "fig.suptitle('Histogram of Daily Subway Entries in Manhattan')\n",
        "fig.tigh_layout()\n",
        "\n",
        "return fig, axes, bin_ranges, configs"
      ],
      "metadata": {
        "id": "ruQPzIslzmSV"
      },
      "execution_count": null,
      "outputs": []
    },
    {
      "cell_type": "code",
      "source": [
        "_ = subway_histogram(manhattan_entries, bins = 30, date_range ='2017')"
      ],
      "metadata": {
        "id": "KkhzRIbpzmUl"
      },
      "execution_count": null,
      "outputs": []
    },
    {
      "cell_type": "code",
      "source": [
        "def add_time_text(ax):\n",
        "  time_text = ax.text(\n",
        "      0.15, 0.9, '', transform = ax.transAxes,\n",
        "      fontsize = 15, ha = 'center', va = 'center'\n",
        "  )\n",
        "  return time_text"
      ],
      "metadata": {
        "id": "fIml0sP9zmW2"
      },
      "execution_count": null,
      "outputs": []
    },
    {
      "cell_type": "code",
      "source": [
        "from pandas.core import frame\n",
        "def update(frame, *, data, configs, time_text, bin_ranges):\n",
        "  artists = []\n",
        "\n",
        "  time = frame.strftime('%b\\n%Y')\n",
        "  if time != time_text.get_text():\n",
        "    time_text.set_text(time)\n",
        "    artists.append(time_text)\n",
        "\n",
        "  for config in configs:\n",
        "    time_frame_mask = \\\n",
        "      (data.index > frame - pd.Timedelta(days = 365)) & (data.index <= frame)\n",
        "    counts, _ = np.histogram(\n",
        "        data[time_frame_mask & config['mask']],\n",
        "        bin_ranges\n",
        "    )\n",
        "    for count, rect in zip(counts, config['hist'].patches):\n",
        "      if count != rect.get_height():\n",
        "        rect.set_height(count)\n",
        "        artists.append(rect)\n",
        "\n",
        "return artists"
      ],
      "metadata": {
        "id": "jjVO-eEczmZV"
      },
      "execution_count": null,
      "outputs": []
    },
    {
      "cell_type": "code",
      "source": [
        "def histogram_init(data, bins, initial_date_range):\n",
        "  fig, axes, bin_ranges, configs = subway_histogram(data, bins, initial_date_range)\n",
        "\n",
        "  update_fuunc = partial(\n",
        "      update, data = data, configs = configs\n",
        "  )"
      ],
      "metadata": {
        "id": "TyJfjyvSzmcJ"
      },
      "execution_count": null,
      "outputs": []
    },
    {
      "cell_type": "code",
      "source": [],
      "metadata": {
        "id": "Dgm-PpFkzmeV"
      },
      "execution_count": null,
      "outputs": []
    },
    {
      "cell_type": "code",
      "source": [],
      "metadata": {
        "id": "62A2fh_0zmg8"
      },
      "execution_count": null,
      "outputs": []
    },
    {
      "cell_type": "code",
      "source": [],
      "metadata": {
        "id": "tRFp1o6PzmjV"
      },
      "execution_count": null,
      "outputs": []
    },
    {
      "cell_type": "code",
      "source": [],
      "metadata": {
        "id": "Dk6juplqzml1"
      },
      "execution_count": null,
      "outputs": []
    },
    {
      "cell_type": "code",
      "source": [],
      "metadata": {
        "id": "cRq-oKIuzmoY"
      },
      "execution_count": null,
      "outputs": []
    },
    {
      "cell_type": "code",
      "source": [],
      "metadata": {
        "id": "0ZAdq3GPzmq7"
      },
      "execution_count": null,
      "outputs": []
    }
  ]
}